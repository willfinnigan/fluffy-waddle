{
 "cells": [
  {
   "cell_type": "markdown",
   "metadata": {},
   "source": [
    "# Initial PCA notebook\n",
    "\n",
    "The goal of this notebook is to look at how to plot an initial PCA of a fingerprints generated from the dataset.  \n",
    "It'll look at how to get a set of fingerprints for the molecules, doing a PCA on these fingerprints, and plotting the result as a scattergraph.  It should be a useful template for doing more complex analysis in the future."
   ]
  },
  {
   "cell_type": "code",
   "execution_count": 30,
   "metadata": {},
   "outputs": [],
   "source": [
    "from rdkit import Chem\n",
    "from rdkit.Chem import rdFingerprintGenerator\n",
    "from rdkit import DataStructs\n",
    "import pandas as pd\n",
    "import numpy as np\n",
    "from sklearn.decomposition import PCA\n",
    "import seaborn as sns\n",
    "\n"
   ]
  },
  {
   "cell_type": "markdown",
   "metadata": {},
   "source": [
    "## 1. Load the data"
   ]
  },
  {
   "cell_type": "code",
   "execution_count": 21,
   "metadata": {},
   "outputs": [
    {
     "data": {
      "text/html": [
       "<div>\n",
       "<style scoped>\n",
       "    .dataframe tbody tr th:only-of-type {\n",
       "        vertical-align: middle;\n",
       "    }\n",
       "\n",
       "    .dataframe tbody tr th {\n",
       "        vertical-align: top;\n",
       "    }\n",
       "\n",
       "    .dataframe thead th {\n",
       "        text-align: right;\n",
       "    }\n",
       "</style>\n",
       "<table border=\"1\" class=\"dataframe\">\n",
       "  <thead>\n",
       "    <tr style=\"text-align: right;\">\n",
       "      <th></th>\n",
       "      <th>reaction</th>\n",
       "      <th>enzyme_type</th>\n",
       "      <th>enzyme_name</th>\n",
       "      <th>short_citation</th>\n",
       "      <th>html_doi</th>\n",
       "      <th>cascade_num</th>\n",
       "      <th>substrate_1_smiles</th>\n",
       "      <th>substrate_2_smiles</th>\n",
       "      <th>product_1_smiles</th>\n",
       "      <th>temperature</th>\n",
       "      <th>...</th>\n",
       "      <th>specific_activity</th>\n",
       "      <th>conversion</th>\n",
       "      <th>conversion_time</th>\n",
       "      <th>categorical</th>\n",
       "      <th>binary</th>\n",
       "      <th>added_by</th>\n",
       "      <th>selectivity</th>\n",
       "      <th>auto_generated</th>\n",
       "      <th>paper</th>\n",
       "      <th>_id</th>\n",
       "    </tr>\n",
       "  </thead>\n",
       "  <tbody>\n",
       "    <tr>\n",
       "      <th>0</th>\n",
       "      <td>Carboxylic acid reduction</td>\n",
       "      <td>CAR</td>\n",
       "      <td>NiCAR</td>\n",
       "      <td>Ressmann et al, 2019, Adv. Synth Catal.</td>\n",
       "      <td>https://doi.org/10.1002/adsc.201900154</td>\n",
       "      <td>NaN</td>\n",
       "      <td>O=C(O)Cc1ccccc1</td>\n",
       "      <td>NaN</td>\n",
       "      <td>O=CCc1ccccc1</td>\n",
       "      <td>25</td>\n",
       "      <td>...</td>\n",
       "      <td>NaN</td>\n",
       "      <td>60.0</td>\n",
       "      <td>5.0</td>\n",
       "      <td>High</td>\n",
       "      <td>True</td>\n",
       "      <td>5ef34e052b3dd3c81352b1ee</td>\n",
       "      <td>NaN</td>\n",
       "      <td>False</td>\n",
       "      <td>5f0ded26b9d32b06f17b7c03</td>\n",
       "      <td>5f0ded26b9d32b06f17b7c05</td>\n",
       "    </tr>\n",
       "    <tr>\n",
       "      <th>1</th>\n",
       "      <td>Carboxylic acid reduction</td>\n",
       "      <td>CAR</td>\n",
       "      <td>NiCAR</td>\n",
       "      <td>Ressmann et al, 2019, Adv. Synth Catal.</td>\n",
       "      <td>https://doi.org/10.1002/adsc.201900154</td>\n",
       "      <td>NaN</td>\n",
       "      <td>CCCCCCCC(=O)O</td>\n",
       "      <td>NaN</td>\n",
       "      <td>CCCCCCCC=O</td>\n",
       "      <td>25</td>\n",
       "      <td>...</td>\n",
       "      <td>NaN</td>\n",
       "      <td>10.0</td>\n",
       "      <td>5.0</td>\n",
       "      <td>Medium</td>\n",
       "      <td>True</td>\n",
       "      <td>5ef34e052b3dd3c81352b1ee</td>\n",
       "      <td>NaN</td>\n",
       "      <td>False</td>\n",
       "      <td>5f0ded26b9d32b06f17b7c03</td>\n",
       "      <td>5f0ded26b9d32b06f17b7c06</td>\n",
       "    </tr>\n",
       "  </tbody>\n",
       "</table>\n",
       "<p>2 rows × 32 columns</p>\n",
       "</div>"
      ],
      "text/plain": [
       "                    reaction enzyme_type enzyme_name  \\\n",
       "0  Carboxylic acid reduction         CAR       NiCAR   \n",
       "1  Carboxylic acid reduction         CAR       NiCAR   \n",
       "\n",
       "                            short_citation  \\\n",
       "0  Ressmann et al, 2019, Adv. Synth Catal.   \n",
       "1  Ressmann et al, 2019, Adv. Synth Catal.   \n",
       "\n",
       "                                 html_doi cascade_num substrate_1_smiles  \\\n",
       "0  https://doi.org/10.1002/adsc.201900154         NaN    O=C(O)Cc1ccccc1   \n",
       "1  https://doi.org/10.1002/adsc.201900154         NaN      CCCCCCCC(=O)O   \n",
       "\n",
       "  substrate_2_smiles product_1_smiles temperature  ...  specific_activity  \\\n",
       "0                NaN     O=CCc1ccccc1          25  ...                NaN   \n",
       "1                NaN       CCCCCCCC=O          25  ...                NaN   \n",
       "\n",
       "  conversion conversion_time categorical  binary                  added_by  \\\n",
       "0       60.0             5.0        High    True  5ef34e052b3dd3c81352b1ee   \n",
       "1       10.0             5.0      Medium    True  5ef34e052b3dd3c81352b1ee   \n",
       "\n",
       "  selectivity  auto_generated                     paper  \\\n",
       "0         NaN           False  5f0ded26b9d32b06f17b7c03   \n",
       "1         NaN           False  5f0ded26b9d32b06f17b7c03   \n",
       "\n",
       "                        _id  \n",
       "0  5f0ded26b9d32b06f17b7c05  \n",
       "1  5f0ded26b9d32b06f17b7c06  \n",
       "\n",
       "[2 rows x 32 columns]"
      ]
     },
     "execution_count": 21,
     "metadata": {},
     "output_type": "execute_result"
    }
   ],
   "source": [
    "df = pd.read_excel(\"mchem_data.xlsx\")\n",
    "\n",
    "# Filter the data by reaction and enzyme type\n",
    "#df = df[df['reaction'].isin(['Carboxylic acid reduction'])]\n",
    "df = df[df['enzyme_type'].isin(['CAR'])]\n",
    "df.reset_index(inplace=True, drop=True)\n",
    "\n",
    "df.head(n=2)"
   ]
  },
  {
   "cell_type": "markdown",
   "metadata": {},
   "source": [
    "## 2. Extract lists of unique substrate or product smiles strings\n",
    "(For this, we will use sets rather than lists)"
   ]
  },
  {
   "cell_type": "code",
   "execution_count": 32,
   "metadata": {},
   "outputs": [
    {
     "name": "stdout",
     "output_type": "stream",
     "text": [
      "178\n",
      "183\n"
     ]
    }
   ],
   "source": [
    "\"\"\" \n",
    "First I want a list of all the unique product and substrate smiles.\n",
    "\n",
    "I had to put in a filter for nan values - ie empty cells, as rdkit doesn't like these.\n",
    "\n",
    "Loop over df and add smiles to two new sets.\n",
    "(sets are like lists, but every entry must be unique)\n",
    "\"\"\"\n",
    "\n",
    "set_substrate_smiles = set()\n",
    "set_product_smiles = set()\n",
    "for index, row in df.iterrows():\n",
    "    if str(row['substrate_1_smiles']) != 'nan':\n",
    "        set_substrate_smiles.add(row['substrate_1_smiles'])\n",
    "    \n",
    "    if str(row['product_1_smiles']) != 'nan':\n",
    "        set_product_smiles.add(row['product_1_smiles'])\n",
    "\n",
    "print(len(set_substrate_smiles))\n",
    "print(len(set_product_smiles))\n",
    "#print(set_substrate_smiles)"
   ]
  },
  {
   "cell_type": "markdown",
   "metadata": {},
   "source": [
    "## 3. Generate list of fingerprints which correspond to the smiles\n",
    "\n",
    "Many different fingerprints are available.   \n",
    "\n",
    "This is a useful resource: https://www.google.com/url?sa=t&rct=j&q=&esrc=s&source=web&cd=&cad=rja&uact=8&ved=2ahUKEwiSme2EtM3tAhVsVBUIHUSCBBYQFjABegQIBBAC&url=https%3A%2F%2Fwww.rdkit.org%2FUGM%2F2012%2FLandrum_RDKit_UGM.Fingerprints.Final.pptx.pdf&usg=AOvVaw1on_e9_FUhFQ2d_SsG1Su-\n",
    "\n",
    "Also, the rdkit page: https://rdkit.org/docs/source/rdkit.Chem.rdFingerprintGenerator.html\n",
    "\n",
    "The default 'rdkitfingerprint' is a good one to try first, followed by morgan fingerprints.  \n",
    "Also look at different fingerprint lengths (try 1024), and the morgan fingerprint radius.\n"
   ]
  },
  {
   "cell_type": "code",
   "execution_count": 35,
   "metadata": {},
   "outputs": [
    {
     "name": "stdout",
     "output_type": "stream",
     "text": [
      "2048\n"
     ]
    }
   ],
   "source": [
    "\"\"\"\n",
    "Fingerprint generators\n",
    "\"\"\"\n",
    "\n",
    "# default rdkit fingerprints, probably try this first\n",
    "rd_arguments = {'fpSize': 2048}\n",
    "fp_gen_rd = rdFingerprintGenerator.GetRDKitFPGenerator(**rd_arguments)\n",
    "\n",
    "# morgan fingerprints (also called extended connectivity fingeprints (ECFP)), also try these.\n",
    "mg_arguments = {'includeChirality': True,\n",
    "                'radius': 2,\n",
    "                'fpSize': 2048}\n",
    "fp_gen_mg = rdFingerprintGenerator.GetMorganGenerator(**mg_arguments)\n",
    "\n",
    "# atom pair - I've not looked into these much, could be worth intestigating?\n",
    "ap_arguments = {'includeChirality': True,\n",
    "                'fpSize': 2048}\n",
    "ap_fp_gen = rdFingerprintGenerator.GetAtomPairGenerator(**ap_arguments)\n",
    "\n",
    "# toplogical torsion fingerprints.  I've not looked at these either yet.. also could be interesting?\n",
    "tt_arguments = {'includeChirality': True,\n",
    "                'fpSize': 2048}\n",
    "tt_fp_gen = rdFingerprintGenerator.GetTopologicalTorsionGenerator(**tt_arguments)\n",
    "\n",
    "\n",
    "# TEST\n",
    "test_smi = 'CCC(O)CCCC=O'\n",
    "test_mol = Chem.MolFromSmiles(test_smi)\n",
    "fp = fp_gen_rd.GetFingerprint(test_mol)\n",
    "#print(fp)\n",
    "print(len(list(fp)))\n",
    "#print(list(fp))"
   ]
  },
  {
   "cell_type": "code",
   "execution_count": 37,
   "metadata": {},
   "outputs": [],
   "source": [
    "\"\"\"\n",
    "Will loop over smiles, making a corresponding list of fp's\n",
    "\n",
    "Pick a fingerprint generator from the sell above. eg fp_gen_rd.\n",
    "Use .GetFingerprint(mol) to return the fingerprint using that generator\n",
    "\"\"\"\n",
    "\n",
    "def make_list_fp(list_smi):\n",
    "    list_fp = []\n",
    "    for smi in list_smi:\n",
    "        mol = Chem.MolFromSmiles(smi)\n",
    "        fp = fp_gen_rd.GetFingerprint(mol)\n",
    "        fp = list(fp)\n",
    "        list_fp.append(fp)\n",
    "    return list_fp\n",
    "\n",
    "# The index of these lists should match up with the smiles lists\n",
    "substrate_fps = make_list_fp(set_substrate_smiles)\n",
    "product_fps = make_list_fp(set_product_smiles)\n",
    "\n",
    "#print(product_fps[0])"
   ]
  },
  {
   "cell_type": "markdown",
   "metadata": {},
   "source": [
    "## 4. Do a PCA on the fingerprints\n",
    "\n",
    "Use sklearn to do the pca.  \n",
    "https://scikit-learn.org/stable/modules/generated/sklearn.decomposition.PCA.html\n",
    "\n",
    "Then add the resulting 2D co-ordinates to a new dataframe, and plot using seaborn.  \n",
    "\n",
    "This was a very useful resource: http://practicalcheminformatics.blogspot.com/2019/11/visualizing-chemical-space.html\n"
   ]
  },
  {
   "cell_type": "code",
   "execution_count": 29,
   "metadata": {},
   "outputs": [],
   "source": [
    "# plotting options\n",
    "sns.set(rc={'figure.figsize': (10, 10)})\n",
    "sns.set(font_scale=1.5)\n",
    "sns.set_style('whitegrid')"
   ]
  },
  {
   "cell_type": "code",
   "execution_count": 26,
   "metadata": {},
   "outputs": [
    {
     "data": {
      "image/png": "[encoded data removed]",
      "text/plain": [
       "<Figure size 720x720 with 1 Axes>"
      ]
     },
     "metadata": {},
     "output_type": "display_data"
    }
   ],
   "source": [
    "\"\"\"\n",
    "1. Substrates\n",
    "\"\"\" \n",
    "\n",
    "pca = PCA(n_components=2)\n",
    "crds = pca.fit_transform(substrate_fps) \n",
    "\n",
    "pca_df = pd.DataFrame(crds,columns=[\"x\",\"y\"])\n",
    "pca_df.head()\n",
    "ax = sns.scatterplot(data=pca_df,x=\"x\",y=\"y\")"
   ]
  },
  {
   "cell_type": "code",
   "execution_count": 27,
   "metadata": {},
   "outputs": [
    {
     "data": {
      "image/png": "[encoded data removed]",
      "text/plain": [
       "<Figure size 720x720 with 1 Axes>"
      ]
     },
     "metadata": {},
     "output_type": "display_data"
    }
   ],
   "source": [
    "\"\"\"\n",
    "2. Products\n",
    "\"\"\" \n",
    "\n",
    "pca = PCA(n_components=2)\n",
    "crds = pca.fit_transform(product_fps) \n",
    "\n",
    "pca_df = pd.DataFrame(crds,columns=[\"x\",\"y\"])\n",
    "pca_df.head()\n",
    "ax = sns.scatterplot(data=pca_df,x=\"x\",y=\"y\")"
   ]
  },
  {
   "cell_type": "markdown",
   "metadata": {},
   "source": [
    "# What next?\n",
    "\n",
    "\n",
    "**First try..**\n",
    "- Colour points based on which cluster the enzyme in that row is in.  (Ie for CARs - is the data from bacterial CAR or Fungal CAR?)\n",
    "\n",
    "- Look at the same analysis as a t-sne.\n",
    "\n",
    "- Plot active vs non-active.  Make a plot of just specific activity / conversion, colour points like a heat map for activity.\n",
    "\n",
    "- Can we find out what the molecules are which appear to be quite different to the others? (find molecules with PC_1 > 10?  Then draw these in RDKit).  We'd need to also add the smiles lists into the PCA dataframe beforehand.  (are these maybe sugars?) - should these be analysed separetly?\n",
    "\n",
    "- Look at different fingerprints, how much of an impact does this have?\n",
    "\n",
    "- Create a function that can run this entire workflow.  Use this function to explore the effects of various options.\n",
    "\n",
    "**Then, more advanded..**\n",
    "- Do unsupervised learning (k-nn), to cluster related molecules.  Colour clusters on PCA.  https://scikit-learn.org/stable/modules/generated/sklearn.neighbors.KNeighborsClassifier.html\n",
    "\n",
    "- Get databases of relevent molecules, extract potential substrates (by doing a SMARTS query), include these in the PCA and overlay the activity data with the PCA data.\n",
    " * https://pubs.acs.org/doi/10.1021/acs.jcim.8b00285\n",
    " * http://chemyang.ccnu.edu.cn/ccb/database/PADFrag/index.php/help/download\n",
    " * http://files.docking.org/bb/\n",
    " * https://downloads.emolecules.com/free/\n",
    " * all of chembl?  ambitious https://www.ebi.ac.uk/chembl/\n",
    "\n",
    "- Check out the notebooks in this repo https://github.com/PatWalters/workshop/blob/master/predictive_models/\n"
   ]
  },
  {
   "cell_type": "code",
   "execution_count": null,
   "metadata": {},
   "outputs": [],
   "source": []
  },
  {
   "cell_type": "code",
   "execution_count": null,
   "metadata": {},
   "outputs": [],
   "source": []
  }
 ],
 "metadata": {
  "kernelspec": {
   "display_name": "Python 3",
   "language": "python",
   "name": "python3"
  },
  "language_info": {
   "codemirror_mode": {
    "name": "ipython",
    "version": 3
   },
   "file_extension": ".py",
   "mimetype": "text/x-python",
   "name": "python",
   "nbconvert_exporter": "python",
   "pygments_lexer": "ipython3",
   "version": "3.8.3"
  }
 },
 "nbformat": 4,
 "nbformat_minor": 4
}

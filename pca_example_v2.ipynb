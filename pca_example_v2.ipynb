{
 "cells": [
  {
   "cell_type": "markdown",
   "metadata": {},
   "source": [
    "# Initial PCA notebook v2\n",
    "\n",
    "The goal of this notebook is to look at how to plot an initial PCA of a fingerprints generated from the dataset.  \n",
    "It'll look at how to get a set of fingerprints for the molecules, doing a PCA on these fingerprints, and plotting the result as a scattergraph.  It should be a useful template for doing more complex analysis in the future.\n",
    "\n",
    "v2 - Rather than just making fingerprints for unique smiles, I wanted to include the fingerprints with the entire df, so that we cau utilise the other information in the dataset (ie the activity information).  To do this, I've added fingerprints directly to the dataframes."
   ]
  },
  {
   "cell_type": "code",
   "execution_count": 1,
   "metadata": {},
   "outputs": [
    {
     "name": "stderr",
     "output_type": "stream",
     "text": [
      "RDKit WARNING: [10:10:17] Enabling RDKit 2019.09.3 jupyter extensions\n"
     ]
    }
   ],
   "source": [
    "from rdkit import Chem\n",
    "from rdkit.Chem import rdFingerprintGenerator\n",
    "from rdkit import DataStructs\n",
    "import pandas as pd\n",
    "from rdkit.Chem import PandasTools\n",
    "import numpy as np\n",
    "from sklearn.decomposition import PCA\n",
    "import seaborn as sns"
   ]
  },
  {
   "cell_type": "markdown",
   "metadata": {},
   "source": [
    "## 1. Load the data"
   ]
  },
  {
   "cell_type": "code",
   "execution_count": 2,
   "metadata": {},
   "outputs": [
    {
     "data": {
      "text/html": [
       "<div>\n",
       "<style scoped>\n",
       "    .dataframe tbody tr th:only-of-type {\n",
       "        vertical-align: middle;\n",
       "    }\n",
       "\n",
       "    .dataframe tbody tr th {\n",
       "        vertical-align: top;\n",
       "    }\n",
       "\n",
       "    .dataframe thead th {\n",
       "        text-align: right;\n",
       "    }\n",
       "</style>\n",
       "<table border=\"1\" class=\"dataframe\">\n",
       "  <thead>\n",
       "    <tr style=\"text-align: right;\">\n",
       "      <th></th>\n",
       "      <th>reaction</th>\n",
       "      <th>enzyme_type</th>\n",
       "      <th>enzyme_name</th>\n",
       "      <th>short_citation</th>\n",
       "      <th>html_doi</th>\n",
       "      <th>cascade_num</th>\n",
       "      <th>substrate_1_smiles</th>\n",
       "      <th>substrate_2_smiles</th>\n",
       "      <th>product_1_smiles</th>\n",
       "      <th>temperature</th>\n",
       "      <th>...</th>\n",
       "      <th>specific_activity</th>\n",
       "      <th>conversion</th>\n",
       "      <th>conversion_time</th>\n",
       "      <th>categorical</th>\n",
       "      <th>binary</th>\n",
       "      <th>added_by</th>\n",
       "      <th>selectivity</th>\n",
       "      <th>auto_generated</th>\n",
       "      <th>paper</th>\n",
       "      <th>_id</th>\n",
       "    </tr>\n",
       "  </thead>\n",
       "  <tbody>\n",
       "    <tr>\n",
       "      <th>0</th>\n",
       "      <td>Primary alcohol oxidation</td>\n",
       "      <td>AlOx</td>\n",
       "      <td>AcCO_6</td>\n",
       "      <td>Ramsden et al, 2019, JACS</td>\n",
       "      <td>https://doi.org/10.1021/jacs.8b11561</td>\n",
       "      <td>1</td>\n",
       "      <td>CCCCCCO</td>\n",
       "      <td>NaN</td>\n",
       "      <td>CCCCCC=O</td>\n",
       "      <td>30</td>\n",
       "      <td>...</td>\n",
       "      <td>NaN</td>\n",
       "      <td>NaN</td>\n",
       "      <td>24.0</td>\n",
       "      <td>NaN</td>\n",
       "      <td>True</td>\n",
       "      <td>5ecbe762bea4f4b3bb8a13bc</td>\n",
       "      <td>NaN</td>\n",
       "      <td>False</td>\n",
       "      <td>5f0ded2ab9d32b06f17b7d65</td>\n",
       "      <td>5f0ded2ab9d32b06f17b7d67</td>\n",
       "    </tr>\n",
       "    <tr>\n",
       "      <th>1</th>\n",
       "      <td>Primary alcohol oxidation</td>\n",
       "      <td>AlOx</td>\n",
       "      <td>AcCO_6</td>\n",
       "      <td>Ramsden et al, 2019, JACS</td>\n",
       "      <td>https://doi.org/10.1021/jacs.8b11561</td>\n",
       "      <td>2</td>\n",
       "      <td>CCCCCCCO</td>\n",
       "      <td>NaN</td>\n",
       "      <td>CCCCCCC=O</td>\n",
       "      <td>30</td>\n",
       "      <td>...</td>\n",
       "      <td>NaN</td>\n",
       "      <td>NaN</td>\n",
       "      <td>24.0</td>\n",
       "      <td>NaN</td>\n",
       "      <td>True</td>\n",
       "      <td>5ecbe762bea4f4b3bb8a13bc</td>\n",
       "      <td>NaN</td>\n",
       "      <td>False</td>\n",
       "      <td>5f0ded2ab9d32b06f17b7d65</td>\n",
       "      <td>5f0ded2ab9d32b06f17b7d68</td>\n",
       "    </tr>\n",
       "  </tbody>\n",
       "</table>\n",
       "<p>2 rows × 32 columns</p>\n",
       "</div>"
      ],
      "text/plain": [
       "                    reaction enzyme_type enzyme_name  \\\n",
       "0  Primary alcohol oxidation        AlOx      AcCO_6   \n",
       "1  Primary alcohol oxidation        AlOx      AcCO_6   \n",
       "\n",
       "              short_citation                              html_doi  \\\n",
       "0  Ramsden et al, 2019, JACS  https://doi.org/10.1021/jacs.8b11561   \n",
       "1  Ramsden et al, 2019, JACS  https://doi.org/10.1021/jacs.8b11561   \n",
       "\n",
       "  cascade_num substrate_1_smiles substrate_2_smiles product_1_smiles  \\\n",
       "0           1            CCCCCCO                NaN         CCCCCC=O   \n",
       "1           2           CCCCCCCO                NaN        CCCCCCC=O   \n",
       "\n",
       "  temperature  ...  specific_activity conversion conversion_time categorical  \\\n",
       "0          30  ...                NaN        NaN            24.0         NaN   \n",
       "1          30  ...                NaN        NaN            24.0         NaN   \n",
       "\n",
       "   binary                  added_by selectivity  auto_generated  \\\n",
       "0    True  5ecbe762bea4f4b3bb8a13bc         NaN           False   \n",
       "1    True  5ecbe762bea4f4b3bb8a13bc         NaN           False   \n",
       "\n",
       "                      paper                       _id  \n",
       "0  5f0ded2ab9d32b06f17b7d65  5f0ded2ab9d32b06f17b7d67  \n",
       "1  5f0ded2ab9d32b06f17b7d65  5f0ded2ab9d32b06f17b7d68  \n",
       "\n",
       "[2 rows x 32 columns]"
      ]
     },
     "execution_count": 2,
     "metadata": {},
     "output_type": "execute_result"
    }
   ],
   "source": [
    "df = pd.read_excel(\"mchem_data.xlsx\")\n",
    "\n",
    "# Filter the data by reaction and enzyme type\n",
    "#df = df[df['reaction'].isin(['Carboxylic acid reduction'])]\n",
    "df = df[df['enzyme_type'].isin(['AlOx'])]\n",
    "df.reset_index(inplace=True, drop=True)\n",
    "\n",
    "df.head(n=2)"
   ]
  },
  {
   "cell_type": "markdown",
   "metadata": {},
   "source": [
    "## 2. Fingerprint generators\n",
    "\n",
    "Many different fingerprints are available.   \n",
    "\n",
    "This is a useful resource: https://www.google.com/url?sa=t&rct=j&q=&esrc=s&source=web&cd=&cad=rja&uact=8&ved=2ahUKEwiSme2EtM3tAhVsVBUIHUSCBBYQFjABegQIBBAC&url=https%3A%2F%2Fwww.rdkit.org%2FUGM%2F2012%2FLandrum_RDKit_UGM.Fingerprints.Final.pptx.pdf&usg=AOvVaw1on_e9_FUhFQ2d_SsG1Su-\n",
    "\n",
    "Also, the rdkit page: https://rdkit.org/docs/source/rdkit.Chem.rdFingerprintGenerator.html\n",
    "\n",
    "The default 'rdkitfingerprint' is a good one to try first, followed by morgan fingerprints.  \n",
    "Also look at different fingerprint lengths (try 1024), and the morgan fingerprint radius.\n"
   ]
  },
  {
   "cell_type": "code",
   "execution_count": 3,
   "metadata": {},
   "outputs": [
    {
     "name": "stdout",
     "output_type": "stream",
     "text": [
      "2048\n"
     ]
    }
   ],
   "source": [
    "\"\"\"\n",
    "Fingerprint generators\n",
    "\"\"\"\n",
    "\n",
    "# default rdkit fingerprints, probably try this first\n",
    "rd_arguments = {'fpSize': 2048}\n",
    "fp_gen_rd = rdFingerprintGenerator.GetRDKitFPGenerator(**rd_arguments)\n",
    "\n",
    "# morgan fingerprints (also called extended connectivity fingeprints (ECFP)), also try these.\n",
    "mg_arguments = {'includeChirality': True,\n",
    "                'radius': 2,\n",
    "                'fpSize': 2048}\n",
    "fp_gen_mg = rdFingerprintGenerator.GetMorganGenerator(**mg_arguments)\n",
    "\n",
    "# atom pair - I've not looked into these much, could be worth intestigating?\n",
    "ap_arguments = {'includeChirality': True,\n",
    "                'fpSize': 2048}\n",
    "ap_fp_gen = rdFingerprintGenerator.GetAtomPairGenerator(**ap_arguments)\n",
    "\n",
    "# toplogical torsion fingerprints.  I've not looked at these either yet.. also could be interesting?\n",
    "tt_arguments = {'includeChirality': True,\n",
    "                'fpSize': 2048}\n",
    "tt_fp_gen = rdFingerprintGenerator.GetTopologicalTorsionGenerator(**tt_arguments)\n",
    "\n",
    "\n",
    "# TEST\n",
    "test_smi = 'CCC(O)CCCC=O'\n",
    "test_mol = Chem.MolFromSmiles(test_smi)\n",
    "fp = fp_gen_rd.GetFingerprint(test_mol)\n",
    "#print(fp)\n",
    "print(len(list(fp)))\n",
    "#print(list(fp))"
   ]
  },
  {
   "cell_type": "markdown",
   "metadata": {},
   "source": [
    "## 3. Fingerprints to dataframe"
   ]
  },
  {
   "cell_type": "code",
   "execution_count": 4,
   "metadata": {},
   "outputs": [
    {
     "data": {
      "text/html": [
       "<div>\n",
       "<style scoped>\n",
       "    .dataframe tbody tr th:only-of-type {\n",
       "        vertical-align: middle;\n",
       "    }\n",
       "\n",
       "    .dataframe tbody tr th {\n",
       "        vertical-align: top;\n",
       "    }\n",
       "\n",
       "    .dataframe thead th {\n",
       "        text-align: right;\n",
       "    }\n",
       "</style>\n",
       "<table border=\"1\" class=\"dataframe\">\n",
       "  <thead>\n",
       "    <tr style=\"text-align: right;\">\n",
       "      <th></th>\n",
       "      <th>reaction</th>\n",
       "      <th>enzyme_type</th>\n",
       "      <th>enzyme_name</th>\n",
       "      <th>short_citation</th>\n",
       "      <th>html_doi</th>\n",
       "      <th>cascade_num</th>\n",
       "      <th>substrate_1_smiles</th>\n",
       "      <th>substrate_2_smiles</th>\n",
       "      <th>product_1_smiles</th>\n",
       "      <th>temperature</th>\n",
       "      <th>...</th>\n",
       "      <th>conversion_time</th>\n",
       "      <th>categorical</th>\n",
       "      <th>binary</th>\n",
       "      <th>added_by</th>\n",
       "      <th>selectivity</th>\n",
       "      <th>auto_generated</th>\n",
       "      <th>paper</th>\n",
       "      <th>_id</th>\n",
       "      <th>substrate_1_mols</th>\n",
       "      <th>substrate_1_fps</th>\n",
       "    </tr>\n",
       "  </thead>\n",
       "  <tbody>\n",
       "    <tr>\n",
       "      <th>0</th>\n",
       "      <td>Primary alcohol oxidation</td>\n",
       "      <td>AlOx</td>\n",
       "      <td>AcCO_6</td>\n",
       "      <td>Ramsden et al, 2019, JACS</td>\n",
       "      <td>https://doi.org/10.1021/jacs.8b11561</td>\n",
       "      <td>1</td>\n",
       "      <td>CCCCCCO</td>\n",
       "      <td>NaN</td>\n",
       "      <td>CCCCCC=O</td>\n",
       "      <td>30</td>\n",
       "      <td>...</td>\n",
       "      <td>24.0</td>\n",
       "      <td>NaN</td>\n",
       "      <td>True</td>\n",
       "      <td>5ecbe762bea4f4b3bb8a13bc</td>\n",
       "      <td>NaN</td>\n",
       "      <td>False</td>\n",
       "      <td>5f0ded2ab9d32b06f17b7d65</td>\n",
       "      <td>5f0ded2ab9d32b06f17b7d67</td>\n",
       "      <td><img data-content=\"rdkit/molecule\" src=\"data:image/png;base64,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\" alt=\"Mol\"/></td>\n",
       "      <td>[0, 0, 0, 0, 0, 0, 0, 0, 0, 0, 0, 0, 0, 0, 0, ...</td>\n",
       "    </tr>\n",
       "    <tr>\n",
       "      <th>1</th>\n",
       "      <td>Primary alcohol oxidation</td>\n",
       "      <td>AlOx</td>\n",
       "      <td>AcCO_6</td>\n",
       "      <td>Ramsden et al, 2019, JACS</td>\n",
       "      <td>https://doi.org/10.1021/jacs.8b11561</td>\n",
       "      <td>2</td>\n",
       "      <td>CCCCCCCO</td>\n",
       "      <td>NaN</td>\n",
       "      <td>CCCCCCC=O</td>\n",
       "      <td>30</td>\n",
       "      <td>...</td>\n",
       "      <td>24.0</td>\n",
       "      <td>NaN</td>\n",
       "      <td>True</td>\n",
       "      <td>5ecbe762bea4f4b3bb8a13bc</td>\n",
       "      <td>NaN</td>\n",
       "      <td>False</td>\n",
       "      <td>5f0ded2ab9d32b06f17b7d65</td>\n",
       "      <td>5f0ded2ab9d32b06f17b7d68</td>\n",
       "      <td><img data-content=\"rdkit/molecule\" src=\"data:image/png;base64,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\" alt=\"Mol\"/></td>\n",
       "      <td>[0, 0, 0, 0, 0, 0, 0, 0, 0, 0, 0, 0, 0, 0, 0, ...</td>\n",
       "    </tr>\n",
       "  </tbody>\n",
       "</table>\n",
       "<p>2 rows × 34 columns</p>\n",
       "</div>"
      ],
      "text/plain": [
       "                    reaction enzyme_type enzyme_name  \\\n",
       "0  Primary alcohol oxidation        AlOx      AcCO_6   \n",
       "1  Primary alcohol oxidation        AlOx      AcCO_6   \n",
       "\n",
       "              short_citation                              html_doi  \\\n",
       "0  Ramsden et al, 2019, JACS  https://doi.org/10.1021/jacs.8b11561   \n",
       "1  Ramsden et al, 2019, JACS  https://doi.org/10.1021/jacs.8b11561   \n",
       "\n",
       "  cascade_num substrate_1_smiles substrate_2_smiles product_1_smiles  \\\n",
       "0           1            CCCCCCO                NaN         CCCCCC=O   \n",
       "1           2           CCCCCCCO                NaN        CCCCCCC=O   \n",
       "\n",
       "  temperature  ...  conversion_time categorical binary  \\\n",
       "0          30  ...             24.0         NaN   True   \n",
       "1          30  ...             24.0         NaN   True   \n",
       "\n",
       "                   added_by  selectivity auto_generated  \\\n",
       "0  5ecbe762bea4f4b3bb8a13bc          NaN          False   \n",
       "1  5ecbe762bea4f4b3bb8a13bc          NaN          False   \n",
       "\n",
       "                      paper                       _id  \\\n",
       "0  5f0ded2ab9d32b06f17b7d65  5f0ded2ab9d32b06f17b7d67   \n",
       "1  5f0ded2ab9d32b06f17b7d65  5f0ded2ab9d32b06f17b7d68   \n",
       "\n",
       "                                    substrate_1_mols  \\\n",
       "0  <img data-content=\"rdkit/molecule\" src=\"data:i...   \n",
       "1  <img data-content=\"rdkit/molecule\" src=\"data:i...   \n",
       "\n",
       "                                     substrate_1_fps  \n",
       "0  [0, 0, 0, 0, 0, 0, 0, 0, 0, 0, 0, 0, 0, 0, 0, ...  \n",
       "1  [0, 0, 0, 0, 0, 0, 0, 0, 0, 0, 0, 0, 0, 0, 0, ...  \n",
       "\n",
       "[2 rows x 34 columns]"
      ]
     },
     "execution_count": 4,
     "metadata": {},
     "output_type": "execute_result"
    }
   ],
   "source": [
    "# Making two separate dfs, in which any rows with nan values for substrates or products are removed\n",
    "# I've made a copy beforehand because pandas was giving a warning otherwise.\n",
    "sub_df = df.copy()\n",
    "sub_df.dropna(subset=['substrate_1_smiles'], inplace=True)\n",
    "\n",
    "prod_df = df.copy()\n",
    "prod_df.dropna(subset=['product_1_smiles'], inplace=True)\n",
    "\n",
    "# add mol columns (http://rdkit.org/docs/source/rdkit.Chem.PandasTools.html)\n",
    "PandasTools.AddMoleculeColumnToFrame(sub_df,'substrate_1_smiles', 'substrate_1_mols')\n",
    "PandasTools.AddMoleculeColumnToFrame(prod_df,'product_1_smiles', 'product_1_mols')\n",
    "\n",
    "# add fingerprints\n",
    "generator = fp_gen_rd\n",
    "sub_df['substrate_1_fps'] = sub_df['substrate_1_mols'].apply(generator.GetFingerprint)\n",
    "prod_df['product_1_fps'] = prod_df['product_1_mols'].apply(generator.GetFingerprint)\n",
    "sub_df.head(n=2)"
   ]
  },
  {
   "cell_type": "markdown",
   "metadata": {},
   "source": [
    "## 4. Do a PCA on the fingerprints\n",
    "\n",
    "Use sklearn to do the pca.  \n",
    "https://scikit-learn.org/stable/modules/generated/sklearn.decomposition.PCA.html\n",
    "\n",
    "Then add the resulting 2D co-ordinates to a new dataframe, and plot using seaborn.  \n",
    "\n",
    "This was a very useful resource: http://practicalcheminformatics.blogspot.com/2019/11/visualizing-chemical-space.html\n"
   ]
  },
  {
   "cell_type": "code",
   "execution_count": 5,
   "metadata": {},
   "outputs": [],
   "source": [
    "# plotting options\n",
    "sns.set(rc={'figure.figsize': (10, 10)})\n",
    "sns.set(font_scale=1.5)\n",
    "sns.set_style('whitegrid')"
   ]
  },
  {
   "cell_type": "code",
   "execution_count": 6,
   "metadata": {},
   "outputs": [
    {
     "data": {
      "image/png": "[encoded data removed]",
      "text/plain": [
       "<Figure size 720x720 with 1 Axes>"
      ]
     },
     "metadata": {},
     "output_type": "display_data"
    }
   ],
   "source": [
    "\"\"\"\n",
    "1. Substrates\n",
    "\"\"\" \n",
    "\n",
    "# This code is pretty inefficient, but gets the job done.\n",
    "# It could be optimised quite a bit to run faster / be cleaner.\n",
    "\n",
    "# Do PCA to get 2D co-ordinates\n",
    "pca = PCA(n_components=2)\n",
    "crds = pca.fit_transform(list(sub_df['substrate_1_fps']))\n",
    "\n",
    "# Add co-ordinates to a new dataframe\n",
    "pca_df = pd.DataFrame(crds,columns=[\"x\",\"y\"])\n",
    "\n",
    "# Combine co-ordinates with original substrate dataframe\n",
    "sub_df['x'] = pca_df['x']\n",
    "sub_df['y'] = pca_df['y']\n",
    "\n",
    "ax = sns.scatterplot(data=sub_df,x=\"x\",y=\"y\")"
   ]
  },
  {
   "cell_type": "code",
   "execution_count": 7,
   "metadata": {},
   "outputs": [
    {
     "data": {
      "image/png": "[encoded data removed]",
      "text/plain": [
       "<Figure size 720x720 with 1 Axes>"
      ]
     },
     "metadata": {},
     "output_type": "display_data"
    }
   ],
   "source": [
    "\"\"\"\n",
    "2. Products\n",
    "\"\"\" \n",
    "\n",
    "pca = PCA(n_components=2)\n",
    "crds = pca.fit_transform(list(prod_df['product_1_fps']))\n",
    "pca_df = pd.DataFrame(crds,columns=[\"x\",\"y\"])\n",
    "prod_df['x'] = pca_df['x']\n",
    "prod_df['y'] = pca_df['y']\n",
    "\n",
    "ax = sns.scatterplot(data=prod_df,x=\"x\",y=\"y\")"
   ]
  },
  {
   "cell_type": "markdown",
   "metadata": {},
   "source": [
    "Because there are multiple datapoints for each substrate / product (multiple enzymes), there are lots of points here which over-lap.  \n",
    "\n",
    "Thinking about how to present multiple data points will be important.  For example, showing active vs non-active, which data point should we show?  I think maybe showing activing if ANY row is active might be one option."
   ]
  },
  {
   "cell_type": "markdown",
   "metadata": {},
   "source": [
    "# What next?\n",
    "\n",
    "\n",
    "**First try..**\n",
    "- Colour points based on which cluster the enzyme in that row is in.  (Ie for CARs - is the data from bacterial CAR or Fungal CAR?)\n",
    "\n",
    "- Look at the same analysis as a t-sne.\n",
    "\n",
    "- Plot active vs non-active.  Make a plot of just specific activity / conversion, colour points like a heat map for activity.\n",
    "\n",
    "- Can we find out what the molecules are which appear to be quite different to the others? (find molecules with PC_1 > 10?  Then draw these in RDKit).  We'd need to also add the smiles lists into the PCA dataframe beforehand.  (are these maybe sugars?) - should these be analysed separetly?\n",
    "\n",
    "- Look at different fingerprints, how much of an impact does this have?\n",
    "\n",
    "- Create a function that can run this entire workflow.  Use this function to explore the effects of various options.\n",
    "\n",
    "**Then, more advanded..**\n",
    "- Do unsupervised learning (k-nn), to cluster related molecules.  Colour clusters on PCA.  https://scikit-learn.org/stable/modules/generated/sklearn.neighbors.KNeighborsClassifier.html\n",
    "\n",
    "- Get databases of relevent molecules, extract potential substrates (by doing a SMARTS query), include these in the PCA and overlay the activity data with the PCA data.\n",
    " * https://pubs.acs.org/doi/10.1021/acs.jcim.8b00285\n",
    " * http://chemyang.ccnu.edu.cn/ccb/database/PADFrag/index.php/help/download\n",
    " * http://files.docking.org/bb/\n",
    " * https://downloads.emolecules.com/free/\n",
    " * all of chembl?  ambitious https://www.ebi.ac.uk/chembl/\n",
    "\n",
    "- Check out the notebooks in this repo https://github.com/PatWalters/workshop/blob/master/predictive_models/\n"
   ]
  }
 ],
 "metadata": {
  "kernelspec": {
   "display_name": "Python 3",
   "language": "python",
   "name": "python3"
  },
  "language_info": {
   "codemirror_mode": {
    "name": "ipython",
    "version": 3
   },
   "file_extension": ".py",
   "mimetype": "text/x-python",
   "name": "python",
   "nbconvert_exporter": "python",
   "pygments_lexer": "ipython3",
   "version": "3.8.3"
  }
 },
 "nbformat": 4,
 "nbformat_minor": 4
}
